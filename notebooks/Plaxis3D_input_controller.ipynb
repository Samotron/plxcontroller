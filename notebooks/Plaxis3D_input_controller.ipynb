{
 "cells": [
  {
   "cell_type": "markdown",
   "metadata": {},
   "source": [
    "# Plaxis 3D Input Controller\n",
    "\n",
    "______________________________________________________________________\n",
    "\n",
    "**Authors: Pablo Vasconez & Daan Vink**"
   ]
  },
  {
   "cell_type": "markdown",
   "metadata": {},
   "source": [
    "#### 1. Install additional requirements and import required modules"
   ]
  },
  {
   "cell_type": "code",
   "execution_count": null,
   "metadata": {},
   "outputs": [],
   "source": [
    "!pip install -r requirements.txt"
   ]
  },
  {
   "cell_type": "code",
   "execution_count": 2,
   "metadata": {},
   "outputs": [],
   "source": [
    "from plxcontroller.plaxis_3d_input_controller import Plaxis3DInputController\n",
    "from plxscripting.easy import new_server"
   ]
  },
  {
   "cell_type": "markdown",
   "metadata": {},
   "source": [
    "#### 2. Activate scripting server in the PLAXIS 3D program (manually)\n",
    "![image.png](attachment:image.png)"
   ]
  },
  {
   "cell_type": "markdown",
   "metadata": {},
   "source": [
    "#### 3. Connect to the remote scripting server and create new Plaxis3DInputController instance"
   ]
  },
  {
   "cell_type": "code",
   "execution_count": null,
   "metadata": {},
   "outputs": [],
   "source": [
    "# Enter IP address of machine and port (integer) and password of the PLAXIS remote server\n",
    "ip_address = \"localhost\"  # can also be an IP address with format \"XXX.XXX.X.XX\"\n",
    "port = 10000\n",
    "password = \"<password in plaxis program>\""
   ]
  },
  {
   "cell_type": "code",
   "execution_count": null,
   "metadata": {},
   "outputs": [],
   "source": [
    "# Connect to PLAXIS remote server\n",
    "server, _ = new_server(ip_address, port, password=password)"
   ]
  },
  {
   "cell_type": "code",
   "execution_count": null,
   "metadata": {},
   "outputs": [],
   "source": [
    "# Create a new Plaxis controller instance\n",
    "co = Plaxis3DInputController(server)"
   ]
  },
  {
   "cell_type": "markdown",
   "metadata": {},
   "source": [
    "#### 4. Start scripting"
   ]
  },
  {
   "cell_type": "code",
   "execution_count": 10,
   "metadata": {},
   "outputs": [],
   "source": [
    "# Uncomment below line if you would like to create a new Plaxis model (otherwise continue with the already opened model)\n",
    "# co.s_i.new()"
   ]
  },
  {
   "cell_type": "code",
   "execution_count": 11,
   "metadata": {},
   "outputs": [],
   "source": [
    "# Create cuboid (example)\n",
    "co.g_i.gotostructures()\n",
    "co.g_i.cuboid(10, (0, 0, 0))"
   ]
  }
 ],
 "metadata": {
  "kernelspec": {
   "display_name": "env-notebook-local",
   "language": "python",
   "name": "python3"
  },
  "language_info": {
   "codemirror_mode": {
    "name": "ipython",
    "version": 3
   },
   "file_extension": ".py",
   "mimetype": "text/x-python",
   "name": "python",
   "nbconvert_exporter": "python",
   "pygments_lexer": "ipython3",
   "version": "3.9.16"
  }
 },
 "nbformat": 4,
 "nbformat_minor": 2
}
