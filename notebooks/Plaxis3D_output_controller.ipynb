{
 "cells": [
  {
   "cell_type": "markdown",
   "metadata": {},
   "source": [
    "# Plaxis 3D Output Controller\n",
    "\n",
    "______________________________________________________________________\n",
    "\n",
    "**Authors: Pablo Vasconez & Daan Vink**"
   ]
  },
  {
   "cell_type": "markdown",
   "metadata": {},
   "source": [
    "#### 1. Install additional requirements and import required modules"
   ]
  },
  {
   "cell_type": "code",
   "execution_count": null,
   "metadata": {},
   "outputs": [],
   "source": [
    "!pip install -r requirements.txt"
   ]
  },
  {
   "cell_type": "code",
   "execution_count": null,
   "metadata": {},
   "outputs": [],
   "source": [
    "from plxscripting.easy import new_server\n",
    "from plxcontroller.plaxis_3d_output_controller import Plaxis3DOutputController"
   ]
  },
  {
   "cell_type": "markdown",
   "metadata": {},
   "source": [
    "#### 2. Activate scripting server in the PLAXIS 3D program (manually)\n",
    "![image](image.png)"
   ]
  },
  {
   "cell_type": "markdown",
   "metadata": {},
   "source": [
    "#### 3. Connect to the remote scripting server and create new Plaxis3DInputController instance"
   ]
  },
  {
   "cell_type": "code",
   "execution_count": null,
   "metadata": {},
   "outputs": [],
   "source": [
    "# Enter IP address of machine and port (integer) and password of the PLAXIS remote server\n",
    "ip_address = \"localhost\"  # can also be an IP address with format \"XXX.XXX.X.XX\"\n",
    "port = 10000\n",
    "password = \"<password in plaxis program>\""
   ]
  },
  {
   "cell_type": "code",
   "execution_count": null,
   "metadata": {},
   "outputs": [],
   "source": [
    "# Connect to PLAXIS remote server\n",
    "server, _ = new_server(ip_address, port, password=password)"
   ]
  },
  {
   "cell_type": "code",
   "execution_count": null,
   "metadata": {},
   "outputs": [],
   "source": [
    "# Create a new Plaxis controller instance\n",
    "co = Plaxis3DOutputController(server)"
   ]
  },
  {
   "cell_type": "markdown",
   "metadata": {},
   "source": [
    "#### 4. Start scripting"
   ]
  },
  {
   "cell_type": "code",
   "execution_count": null,
   "metadata": {},
   "outputs": [],
   "source": [
    "# Get nodes per cut volume\n",
    "nodes_per_cut_volume = co.get_nodes_per_cut_volume()\n",
    "nodes_per_cut_volume"
   ]
  }
 ],
 "metadata": {
  "kernelspec": {
   "display_name": "env-notebook-local",
   "language": "python",
   "name": "python3"
  },
  "language_info": {
   "codemirror_mode": {
    "name": "ipython",
    "version": 3
   },
   "file_extension": ".py",
   "mimetype": "text/x-python",
   "name": "python",
   "nbconvert_exporter": "python",
   "pygments_lexer": "ipython3",
   "version": "3.9.16"
  }
 },
 "nbformat": 4,
 "nbformat_minor": 2
}
